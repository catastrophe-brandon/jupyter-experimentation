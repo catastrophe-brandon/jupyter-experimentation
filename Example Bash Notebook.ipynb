{
 "cells": [
  {
   "cell_type": "markdown",
   "metadata": {},
   "source": [
    "# Listing a directory\n",
    "\n",
    "The `ls` command is used to list the contents of a directory structure."
   ]
  },
  {
   "cell_type": "code",
   "execution_count": 1,
   "metadata": {
    "collapsed": false,
    "scrolled": true
   },
   "outputs": [
    {
     "name": "stdout",
     "output_type": "stream",
     "text": [
      "total 200\n",
      "drwxr-xr-x@  8 btweed  staff    272 Mar 28 15:00 \u001b[34m.\u001b[39;49m\u001b[0m\n",
      "drwx------@ 20 btweed  staff    680 Mar 28 14:52 \u001b[34m..\u001b[39;49m\u001b[0m\n",
      "drwxr-xr-x@  7 btweed  staff    238 Mar 28 15:00 \u001b[34m.ipynb_checkpoints\u001b[39;49m\u001b[0m\n",
      "-rw-r--r--@  1 btweed  staff  10396 Jun 15  2016 Brandon's Notebook.ipynb\n",
      "-rw-r--r--@  1 btweed  staff   5582 Feb  5  2016 MAIN-339 Testing.ipynb\n",
      "-rw-r--r--@  1 btweed  staff  64357 Jun 15  2016 Testing MAIN-358.ipynb\n",
      "-rw-r--r--@  1 btweed  staff   8544 Mar 17 21:08 Twitter Testing Notebook.ipynb\n",
      "-rw-r--r--@  1 btweed  staff     72 Mar 28 15:00 Untitled.ipynb\n"
     ]
    }
   ],
   "source": [
    "ls -la"
   ]
  },
  {
   "cell_type": "markdown",
   "metadata": {},
   "source": [
    "# Finding out the current working directory\n",
    "\n",
    "Use the `pwd` command to find out where you are in the file system."
   ]
  },
  {
   "cell_type": "code",
   "execution_count": 3,
   "metadata": {
    "collapsed": false
   },
   "outputs": [
    {
     "name": "stdout",
     "output_type": "stream",
     "text": [
      "/Users/btweed/Dropbox/JupyterNotebooks\n"
     ]
    }
   ],
   "source": [
    "pwd"
   ]
  },
  {
   "cell_type": "markdown",
   "metadata": {},
   "source": [
    "# Creating a file\n",
    "\n",
    "Use the `touch` command to create a new file."
   ]
  },
  {
   "cell_type": "code",
   "execution_count": 4,
   "metadata": {
    "collapsed": true
   },
   "outputs": [],
   "source": [
    "touch $HOME/some_file_name.txt"
   ]
  },
  {
   "cell_type": "markdown",
   "metadata": {},
   "source": [
    "# Removing a file\n",
    "\n",
    "Use the `rm` command to remove a file."
   ]
  },
  {
   "cell_type": "code",
   "execution_count": 5,
   "metadata": {
    "collapsed": true
   },
   "outputs": [],
   "source": [
    "rm $HOME/some_file_name.txt"
   ]
  },
  {
   "cell_type": "markdown",
   "metadata": {},
   "source": [
    "# Editing a file\n",
    "\n",
    "One way to edit a file is to use an editor known as `vi`"
   ]
  },
  {
   "cell_type": "code",
   "execution_count": null,
   "metadata": {
    "collapsed": true
   },
   "outputs": [],
   "source": [
    "vi some_file.txt"
   ]
  },
  {
   "cell_type": "code",
   "execution_count": null,
   "metadata": {
    "collapsed": true
   },
   "outputs": [],
   "source": []
  }
 ],
 "metadata": {
  "kernelspec": {
   "display_name": "Bash",
   "language": "bash",
   "name": "bash"
  },
  "language_info": {
   "codemirror_mode": "shell",
   "file_extension": ".sh",
   "mimetype": "text/x-sh",
   "name": "bash"
  }
 },
 "nbformat": 4,
 "nbformat_minor": 2
}
