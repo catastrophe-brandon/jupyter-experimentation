{
 "cells": [
  {
   "cell_type": "markdown",
   "metadata": {},
   "source": [
    "# Snippet to build dev and stage system hostnames\n",
    "\n",
    "The pattern for dev and stage system names is somewhat obvious, so I wrote a short snippet to build the URLs. These URLs are posted on our internal wiki."
   ]
  },
  {
   "cell_type": "code",
   "execution_count": 24,
   "metadata": {
    "collapsed": false
   },
   "outputs": [
    {
     "name": "stdout",
     "output_type": "stream",
     "text": [
      "Dev Environments\n",
      "\n",
      "https://devtrust.broadvine.com\n",
      "https://devgulphcreek.broadvine.com\n",
      "https://devsundevmgt.broadvine.com\n",
      "https://devprotea.broadvine.com\n",
      "https://devharmony.broadvine.com\n",
      "https://devprince.broadvine.com\n",
      "https://devnvn.broadvine.com\n",
      "https://devfocus.broadvine.com\n",
      "https://devdimension.broadvine.com\n",
      "https://devtexaswestern.broadvine.com\n",
      "https://devsummit.broadvine.com\n",
      "https://devwinston.broadvine.com\n",
      "https://devaimbridge.broadvine.com\n",
      "https://devmidas.broadvine.com\n",
      "https://devtrump.broadvine.com\n",
      "https://devone.broadvine.com\n",
      "https://devpacifica.broadvine.com\n",
      "https://devvistahost.broadvine.com\n",
      "https://devchesapeake.broadvine.com\n",
      "https://devfirstcarolina.broadvine.com\n",
      "https://devidm.broadvine.com\n",
      "https://devshgroup.broadvine.com\n",
      "\n",
      "Staging Environments\n",
      "\n",
      "https://truststage.broadvine.com\n",
      "https://gulphcreekstage.broadvine.com\n",
      "https://sundevmgtstage.broadvine.com\n",
      "https://proteastage.broadvine.com\n",
      "https://harmonystage.broadvine.com\n",
      "https://princestage.broadvine.com\n",
      "https://nvnstage.broadvine.com\n",
      "https://focusstage.broadvine.com\n",
      "https://dimensionstage.broadvine.com\n",
      "https://texaswesternstage.broadvine.com\n",
      "https://summitstage.broadvine.com\n",
      "https://winstonstage.broadvine.com\n",
      "https://aimbridgestage.broadvine.com\n",
      "https://midasstage.broadvine.com\n",
      "https://trumpstage.broadvine.com\n",
      "https://onestage.broadvine.com\n",
      "https://pacificastage.broadvine.com\n",
      "https://vistahoststage.broadvine.com\n",
      "https://chesapeakestage.broadvine.com\n",
      "https://firstcarolinastage.broadvine.com\n",
      "https://idmstage.broadvine.com\n",
      "https://shgroupstage.broadvine.com\n"
     ]
    }
   ],
   "source": [
    "import openpyxl\n",
    "import re\n",
    "\n",
    "def customer_names():\n",
    "    wb = openpyxl.load_workbook('/Users/btweed/Dropbox/Broadvine/Account Management Assignments.xlsx')\n",
    "    sheet = wb.get_sheet_by_name('12-14-16')\n",
    "    names = []\n",
    "    for i in range(2,24):\n",
    "        cell = 'A%d' % i        \n",
    "        name = str(sheet[cell].value).lower()\n",
    "        name = re.sub('[ &]', '', name)\n",
    "        names.append(name)\n",
    "    return names\n",
    "        \n",
    "print('Dev Environments\\n')        \n",
    "customers = customer_names()\n",
    "for customer in customers:\n",
    "    print('https://dev{}.broadvine.com'.format(customer))\n",
    "\n",
    "print('\\nStaging Environments\\n')    \n",
    "for customer in customers:\n",
    "    print('https://{}stage.broadvine.com'.format(customer))\n",
    "        "
   ]
  },
  {
   "cell_type": "code",
   "execution_count": null,
   "metadata": {
    "collapsed": true
   },
   "outputs": [],
   "source": []
  },
  {
   "cell_type": "code",
   "execution_count": null,
   "metadata": {
    "collapsed": true
   },
   "outputs": [],
   "source": []
  }
 ],
 "metadata": {
  "kernelspec": {
   "display_name": "Python 3",
   "language": "python",
   "name": "python3"
  },
  "language_info": {
   "codemirror_mode": {
    "name": "ipython",
    "version": 3
   },
   "file_extension": ".py",
   "mimetype": "text/x-python",
   "name": "python",
   "nbconvert_exporter": "python",
   "pygments_lexer": "ipython3",
   "version": "3.6.0"
  }
 },
 "nbformat": 4,
 "nbformat_minor": 2
}
